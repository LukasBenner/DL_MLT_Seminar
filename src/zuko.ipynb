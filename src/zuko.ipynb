{
 "cells": [
  {
   "cell_type": "code",
   "execution_count": null,
   "id": "c8ff66d4",
   "metadata": {},
   "outputs": [],
   "source": [
    "import torch\n",
    "import numpy as np\n",
    "import zuko\n",
    "import matplotlib.pyplot as plt\n",
    "import torch.utils.data as data\n",
    "\n",
    "from toy_dataset import get_data_sin_rand, get_data_sin"
   ]
  },
  {
   "cell_type": "code",
   "execution_count": null,
   "id": "efe927d0",
   "metadata": {},
   "outputs": [],
   "source": [
    "# 2. Get and normalize data\n",
    "raw_data = get_data_sin_rand(0, 12)\n",
    "data_mean = raw_data.mean(dim=0)\n",
    "data_std = raw_data.std(dim=0)\n",
    "data = (raw_data - data_mean) / data_std"
   ]
  },
  {
   "cell_type": "code",
   "execution_count": null,
   "id": "5c7905ee",
   "metadata": {},
   "outputs": [],
   "source": [
    "# Plot original data\n",
    "x = raw_data[:, 0].numpy()\n",
    "y = raw_data[:, 1].numpy()\n",
    "plt.figure(figsize=(8, 6))\n",
    "plt.scatter(x, y, s=1, label='Training data')\n",
    "plt.title(\"Training data\")\n",
    "plt.xlabel(\"x\")\n",
    "plt.ylabel(\"y\")\n",
    "plt.legend()\n",
    "plt.show()"
   ]
  },
  {
   "cell_type": "code",
   "execution_count": null,
   "id": "bd878a19",
   "metadata": {},
   "outputs": [],
   "source": [
    "wrong_samples = get_data_sin(8, 10)\n",
    "x_wrong = wrong_samples[:, 0].numpy()\n",
    "y_wrong = wrong_samples[:, 1].numpy()\n",
    "plt.figure(figsize=(8, 6))\n",
    "plt.scatter(x, y, s=1, label='Training data')\n",
    "plt.scatter(x_wrong, y_wrong, s=1, color='red', label='Wrong samples')\n",
    "plt.title(\"Training data\")\n",
    "plt.xlabel(\"x\")\n",
    "plt.ylabel(\"y\")\n",
    "plt.legend()\n",
    "plt.show()\n"
   ]
  },
  {
   "cell_type": "code",
   "execution_count": null,
   "id": "d3a22db4",
   "metadata": {},
   "outputs": [],
   "source": [
    "# 3. Data loader\n",
    "batch_size = 64\n",
    "trainset = torch.utils.data.TensorDataset(data)\n",
    "trainloader = torch.utils.data.DataLoader(trainset, batch_size=batch_size, shuffle=True)"
   ]
  },
  {
   "cell_type": "code",
   "execution_count": null,
   "id": "bad734b9",
   "metadata": {},
   "outputs": [],
   "source": [
    "# 4. Define conditional flow: p(y | x)\n",
    "flow = zuko.flows.BPF(features=1, context=1, degree=20, hidden_features=(64, 64))"
   ]
  },
  {
   "cell_type": "code",
   "execution_count": null,
   "id": "704002e6",
   "metadata": {},
   "outputs": [],
   "source": [
    "# 5. Training\n",
    "optimizer = torch.optim.Adam(flow.parameters(), lr=1e-4)\n",
    "loss_hist = []\n",
    "\n",
    "for epoch in range(200):\n",
    "    losses = []\n",
    "\n",
    "    for (batch,) in trainloader:\n",
    "        x_ctx = batch[:, 0:1]  # context (x)\n",
    "        y_val = batch[:, 1:2]  # target (y)\n",
    "\n",
    "        loss = -flow(x_ctx).log_prob(y_val).mean()\n",
    "        loss.backward()\n",
    "\n",
    "        optimizer.step()\n",
    "        optimizer.zero_grad()\n",
    "\n",
    "        losses.append(loss.detach())\n",
    "\n",
    "    losses = torch.stack(losses)\n",
    "    loss_hist.append(losses.mean().item())\n",
    "    print(f\"({epoch})\", losses.mean().item(), \"±\", losses.std().item())"
   ]
  },
  {
   "cell_type": "code",
   "execution_count": null,
   "id": "25eb2d50",
   "metadata": {},
   "outputs": [],
   "source": [
    "# 6. Plot loss\n",
    "plt.figure(figsize=(8, 6))\n",
    "plt.plot(loss_hist, label=\"Loss\")\n",
    "plt.xlabel(\"Epoch\")\n",
    "plt.ylabel(\"Negative Log-Likelihood\")\n",
    "plt.title(\"Training Loss Over Time\")\n",
    "plt.legend()\n",
    "plt.show()"
   ]
  },
  {
   "cell_type": "code",
   "execution_count": null,
   "id": "0f0f95db",
   "metadata": {},
   "outputs": [],
   "source": [
    "# 7. Sample from the learned distribution p(y | x)\n",
    "x_values = torch.linspace(8, 10, 20).unsqueeze(1)\n",
    "x_values_norm = (x_values - data_mean[0]) / data_std[0]  # normalize x\n",
    "samples_norm = flow(x_values_norm).sample((100,))  # (100, 500, 1)\n",
    "samples = samples_norm * data_std[1] + data_mean[1]  # denormalize y"
   ]
  },
  {
   "cell_type": "code",
   "execution_count": null,
   "id": "e66942d5",
   "metadata": {},
   "outputs": [],
   "source": [
    "# 8. Plot the sampled y's conditioned on x\n",
    "plt.figure(figsize=(10, 6))\n",
    "for i in range(100):  # 100 sampled functions\n",
    "    plt.scatter(x_values.numpy(), samples[i, :, 0].numpy(), s=1, color='red', alpha=0.5, label=\"Sampled Data\" if i == 0 else \"\")\n",
    "plt.scatter(raw_data[:, 0].numpy(), raw_data[:, 1].numpy(), s=1, color='black', alpha=0.5, label=\"Original Data\")\n",
    "plt.title(\"Conditional Samples from Trained Flow: p(y | x)\")\n",
    "plt.xlabel(\"x\")\n",
    "plt.ylabel(\"y\")\n",
    "plt.legend(loc='upper left')\n",
    "plt.show()"
   ]
  },
  {
   "cell_type": "code",
   "execution_count": null,
   "id": "16f1c38a",
   "metadata": {},
   "outputs": [],
   "source": [
    "# 9. Plot conditional densities for fixed x values\n",
    "import seaborn as sns\n",
    "from scipy.stats import gaussian_kde\n",
    "\n",
    "y_max = raw_data[:, 1].numpy().max()\n",
    "\n",
    "x_slices = torch.linspace(0, 12, 12)\n",
    "ys = torch.linspace(0, y_max, 500)\n",
    "\n",
    "plt.figure(figsize=(10, 6))\n",
    "\n",
    "# Normalize x and y\n",
    "x_slices_norm = (x_slices - data_mean[0]) / data_std[0]\n",
    "ys_norm = (ys - data_mean[1]) / data_std[1]\n",
    "\n",
    "for x_val, x_val_norm in zip(x_slices, x_slices_norm):\n",
    "    x_context = x_val_norm.unsqueeze(0).unsqueeze(0).expand(ys.shape[0], -1)  # shape (500, 1)\n",
    "    y_eval = ys_norm.unsqueeze(1)  # shape (500, 1)\n",
    "\n",
    "    with torch.no_grad():\n",
    "        log_probs = flow(x_context).log_prob(y_eval)\n",
    "        probs = torch.exp(log_probs).numpy()\n",
    "\n",
    "    # Scale and shift to x-position for ridge plot\n",
    "    probs_scaled = probs * 0.3  # scale for display\n",
    "    plt.plot(probs_scaled + x_val.item(), ys, color='black')\n",
    "\n",
    "    # Optional: draw vertical reference line\n",
    "    plt.axvline(x_val.item(), color='black', linestyle='dashed', linewidth=0.5)\n",
    "\n",
    "plt.scatter(raw_data[:, 0], raw_data[:, 1], alpha=0.2, s=10, label='Training Data')\n",
    "plt.xlabel(\"x\")\n",
    "plt.ylabel(\"y\")\n",
    "plt.title(\"Conditional densities p(y|x)\")\n",
    "plt.legend(loc='upper left')\n",
    "plt.show()\n"
   ]
  }
 ],
 "metadata": {
  "kernelspec": {
   "display_name": "pytorch",
   "language": "python",
   "name": "python3"
  },
  "language_info": {
   "codemirror_mode": {
    "name": "ipython",
    "version": 3
   },
   "file_extension": ".py",
   "mimetype": "text/x-python",
   "name": "python",
   "nbconvert_exporter": "python",
   "pygments_lexer": "ipython3",
   "version": "3.12.9"
  }
 },
 "nbformat": 4,
 "nbformat_minor": 5
}
