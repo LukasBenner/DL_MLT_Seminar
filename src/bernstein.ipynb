{
 "cells": [
  {
   "cell_type": "code",
   "execution_count": null,
   "id": "6659f3f1",
   "metadata": {},
   "outputs": [],
   "source": [
    "import torch\n",
    "import numpy as np\n",
    "import matplotlib.pyplot as plt\n",
    "from torch import Tensor\n",
    "from torch.distributions import Distribution"
   ]
  },
  {
   "cell_type": "code",
   "execution_count": null,
   "id": "b59a4743",
   "metadata": {},
   "outputs": [],
   "source": [
    "def beta_basis(order: int) -> Distribution:\n",
    "    \"\"\"\n",
    "    Returns a Beta distribution with the specified order.\n",
    "    \"\"\"\n",
    "    alpha = torch.arange(1, order + 2, dtype=torch.float32)\n",
    "    beta = torch.arange(order + 1, 0, -1, dtype=torch.float32)\n",
    "    return torch.distributions.Beta(alpha, beta)"
   ]
  },
  {
   "cell_type": "code",
   "execution_count": null,
   "id": "6ef9c7de",
   "metadata": {},
   "outputs": [],
   "source": [
    "order = 10\n",
    "basis = beta_basis(order)"
   ]
  },
  {
   "cell_type": "code",
   "execution_count": null,
   "id": "7533ea5f",
   "metadata": {},
   "outputs": [],
   "source": [
    "x = torch.linspace(0, 1, 1000).reshape(-1, 1)\n",
    "y = basis.log_prob(x).exp()\n",
    "y = y / y.max()\n",
    "y = y.numpy()\n",
    "\n",
    "alpha = torch.arange(1, order + 2, dtype=torch.float32)\n",
    "beta = torch.arange(order + 1, 0, -1, dtype=torch.float32)\n",
    "\n",
    "for i in range(y.shape[1]):\n",
    "  plt.plot(x.numpy(), y[:, i], label=f'alpha {alpha[i]} beta {beta[i]}')\n",
    "plt.legend()\n",
    "plt.title('Beta-Verteilung')\n",
    "plt.xlabel('y')\n",
    "plt.ylabel('Be(y)')\n",
    "plt.grid()\n",
    "plt.show()"
   ]
  },
  {
   "cell_type": "code",
   "execution_count": null,
   "id": "04084dc1",
   "metadata": {},
   "outputs": [],
   "source": [
    "def bernstein_poly(x: Tensor, theta: Tensor, basis: Distribution):\n",
    "    \"\"\"Compute the Bernstein polynomial of degree n at x.\"\"\"\n",
    "    b = basis.log_prob(x.unsqueeze(-1)).exp()\n",
    "    y = torch.mean(b * theta, dim=-1)\n",
    "    return y"
   ]
  },
  {
   "cell_type": "code",
   "execution_count": null,
   "id": "e79ffb57",
   "metadata": {},
   "outputs": [],
   "source": [
    "def visualize_bernstein_poly(theta: Tensor, basis: Distribution, title: str = 'Bernstein-Polynom'):\n",
    "    \"\"\"Visualize the Bernstein polynomial.\"\"\"\n",
    "    x = torch.linspace(0, 1, 1000).reshape(-1, 1)\n",
    "    y = bernstein_poly(x, theta, basis).numpy()\n",
    "    y = y / y.max()\n",
    "    \n",
    "    plt.plot(x.numpy(), y)\n",
    "    plt.title(title)\n",
    "    plt.xlabel('y')\n",
    "    plt.ylabel('h(y|x)')\n",
    "    plt.grid()\n",
    "    plt.show()"
   ]
  },
  {
   "cell_type": "code",
   "execution_count": null,
   "id": "4563a775",
   "metadata": {},
   "outputs": [],
   "source": [
    "theta = torch.rand(10, order + 1)\n",
    "visualize_bernstein_poly(theta, basis, title='Bernstein-Polynome mit zufälligen Koeffizienten')"
   ]
  },
  {
   "cell_type": "code",
   "execution_count": null,
   "id": "dae4e94f",
   "metadata": {},
   "outputs": [],
   "source": [
    "theta_sorted = torch.sort(theta, dim=-1).values\n",
    "visualize_bernstein_poly(theta_sorted, basis, 'Bernstein-Polynome mit sortierten Koeffizienten')"
   ]
  },
  {
   "cell_type": "code",
   "execution_count": null,
   "id": "4c19a72f",
   "metadata": {},
   "outputs": [],
   "source": [
    "def to_theta(theta: Tensor) -> Tensor:\n",
    "    \"\"\"Convert theta to [theta_0, theta_0 + exp(theta_1), ..., theta_n-1 + exp(theta_n)]\"\"\"\n",
    "    theta_0 = theta[:, :1]\n",
    "    theta_exp = torch.nn.functional.softplus(theta[:, 1:])\n",
    "    theta = torch.cat([theta_0, theta_exp], dim=-1)\n",
    "    theta = torch.cumsum(theta, dim=-1)\n",
    "    return theta"
   ]
  },
  {
   "cell_type": "code",
   "execution_count": null,
   "id": "8c4016eb",
   "metadata": {},
   "outputs": [],
   "source": [
    "theta = torch.randn(1, 10)\n",
    "print(theta)\n",
    "theta = to_theta(theta)\n",
    "print(theta)"
   ]
  },
  {
   "cell_type": "code",
   "execution_count": null,
   "id": "8c65fc41",
   "metadata": {},
   "outputs": [],
   "source": [
    "theta = torch.rand(10, order + 1)\n",
    "theta = to_theta(theta)\n",
    "visualize_bernstein_poly(theta, basis, 'Bernstein Polynomial with Transformed Coefficients')"
   ]
  }
 ],
 "metadata": {
  "kernelspec": {
   "display_name": "pytorch",
   "language": "python",
   "name": "python3"
  },
  "language_info": {
   "codemirror_mode": {
    "name": "ipython",
    "version": 3
   },
   "file_extension": ".py",
   "mimetype": "text/x-python",
   "name": "python",
   "nbconvert_exporter": "python",
   "pygments_lexer": "ipython3",
   "version": "3.12.9"
  }
 },
 "nbformat": 4,
 "nbformat_minor": 5
}
